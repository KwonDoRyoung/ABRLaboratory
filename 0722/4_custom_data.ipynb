{
  "cells": [
    {
      "cell_type": "markdown",
      "metadata": {
        "colab_type": "text",
        "id": "view-in-github"
      },
      "source": [
        "<a href=\"https://colab.research.google.com/github/KwonDoRyoung/ABRLaboratory/blob/main/0722/3_train_mnist.ipynb\" target=\"_parent\"><img src=\"https://colab.research.google.com/assets/colab-badge.svg\" alt=\"Open In Colab\"/></a>"
      ]
    },
    {
      "cell_type": "code",
      "execution_count": null,
      "id": "ny24LZUolz1p",
      "metadata": {
        "id": "ny24LZUolz1p"
      },
      "outputs": [],
      "source": [
        "# import transforms and datasets in TorchVision\n",
        "import torchvision.transforms as T\n",
        "import torchvision.datasets as datasets\n",
        "\n",
        "# load or download MNIST datasets\n",
        "#train_data = datasets.MNIST(root='./data', train=True, download=True, transform=T.ToTensor())\n",
        "#valid_data = datasets.MNIST(root='./data', train=True, download=True, transform=T.ToTensor())\n",
        "\n",
        "from torch.utils.data import Dataset\n",
        "\n",
        "class OptDigitDataset(Dataset):\n",
        "    def __init__(self, file_path, transform=None):\n",
        "        with open(file_path, 'r') as f:\n",
        "            temp = [line.strip().split(',') for line in f.readlines()]\n",
        "            data = []\n",
        "            for line in temp:\n",
        "                t = []\n",
        "                for i in line:\n",
        "                    t.append(int(i))\n",
        "                data.append(t)\n",
        "\n",
        "        data = np.array(data)\n",
        "        self.x = data[:, :-1]/16\n",
        "        self.y = data[:, -1]\n",
        "\n",
        "        self.transform = transform\n",
        "    \n",
        "    def __len__(self):\n",
        "        return len(self.y)\n",
        "\n",
        "    def __getitem__(self, idx):\n",
        "        x = self.x[idx]\n",
        "        x = np.reshape(x, (1,8,8))\n",
        "        y = int(self.y[idx])\n",
        "        sample = {'x':x, 'y':y}\n",
        "\n",
        "        if self.transform:\n",
        "            sample = self.transform(sample)\n",
        "\n",
        "        return sample\n",
        "\n",
        "\n",
        "train_data = OptDigitDataset('optdigits.tra')\n",
        "valid_data = OptDigitDataset('optdigits.tra')"
      ]
    }
  ],
  "metadata": {
    "colab": {
      "include_colab_link": true,
      "name": "3-train_mnist.ipynb",
      "provenance": []
    },
    "kernelspec": {
      "display_name": "Python 3.9.12 ('base')",
      "language": "python",
      "name": "python3"
    },
    "language_info": {
      "codemirror_mode": {
        "name": "ipython",
        "version": 3
      },
      "file_extension": ".py",
      "mimetype": "text/x-python",
      "name": "python",
      "nbconvert_exporter": "python",
      "pygments_lexer": "ipython3",
      "version": "3.9.12"
    },
    "vscode": {
      "interpreter": {
        "hash": "0e81eef53317823a99dbb7cd8b3ecbb26c1d3ba397798f563ae9261fd123f212"
      }
    }
  },
  "nbformat": 4,
  "nbformat_minor": 5
}
