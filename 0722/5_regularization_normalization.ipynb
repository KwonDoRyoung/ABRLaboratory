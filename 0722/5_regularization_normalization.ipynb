{
 "cells": [
  {
   "cell_type": "markdown",
   "id": "4a548012-516b-4b70-9ba3-b43d49d7ee4c",
   "metadata": {},
   "source": [
    "### Batch & Layer Normalization and Dropout\n",
    "------------------------\n",
    "+ __Batch Normalization__ is normalizing input distribution in mini-batch by making the mean 0 and the standard deviation 1 and adapting scale factor and shift factor.\n",
    "+ __Dropout__ is a feature in which some nodes are randomly selected at a certain rate and removed during the training phase."
   ]
  },
  {
   "cell_type": "code",
   "execution_count": null,
   "id": "389288a5-4253-4439-830b-c4c53ae1687d",
   "metadata": {},
   "outputs": [],
   "source": [
    "import torch\n",
    "import torch.nn as nn\n",
    "import torchvision.datasets as dsets\n",
    "import torchvision.transforms as transforms\n",
    "import random\n",
    "from tqdm.auto import tqdm\n",
    "\n",
    "device = 'cuda' if torch.cuda.is_available() else 'cpu'\n",
    "\n",
    "random.seed(111)\n",
    "torch.manual_seed(777)\n",
    "if device == 'cuda':\n",
    "    torch.cuda.manual_seed_all(777)\n",
    "    \n",
    "# parameters\n",
    "learning_rate = 0.001\n",
    "training_epochs = 15\n",
    "batch_size = 100"
   ]
  },
  {
   "cell_type": "code",
   "execution_count": null,
   "id": "6d1b5967-45ac-4e25-a39a-f91a89062a22",
   "metadata": {},
   "outputs": [],
   "source": [
    "# transform setting \n",
    "# You need to set up this code!\n",
    "transform = transforms.Compose([\n",
    "                    transforms.ToTensor(),\n",
    "                    # Data Normalization\n",
    "                    transforms.Normalize((0.5, 0.5, 0.5), (0.5, 0.5, 0.5)),\n",
    "    \n",
    "                    # Data Augmentation\n",
    "                    # transforms.CenterCrop(28), # this parameter must lower than real image size\n",
    "                    # transforms.RandomHorizontalFlip(p=0.5), # this parameter is probability of applying this function\n",
    "                    # transforms.RandomVerticalFlip(p=0.5), # this parameter is probability of applying this function\n",
    "                    # transforms.RandomRotation(70), # this parameter is degree of rotate image\n",
    "                    # transforms.ColorJitter(brightness=20, contrast=25, saturation=0, hue=0)\n",
    "                    \n",
    "    ])\n",
    "\n",
    "\n",
    "trainset = dsets.CIFAR10(root='./data', train=True,\n",
    "                                        download=True, transform=transform)\n",
    "testset = dsets.CIFAR10(root='./data', train=False,\n",
    "                                       download=True, transform=transform)\n",
    "\n",
    "\n",
    "trainloader = torch.utils.data.DataLoader(trainset, batch_size=batch_size,\n",
    "                                          shuffle=True, num_workers=2)\n",
    "testloader = torch.utils.data.DataLoader(testset, batch_size=batch_size,\n",
    "                                         shuffle=False, num_workers=2)\n",
    "\n",
    "classes = ('plane', 'car', 'bird', 'cat',\n",
    "           'deer', 'dog', 'frog', 'horse', 'ship', 'truck')"
   ]
  },
  {
   "cell_type": "code",
   "execution_count": null,
   "id": "9c92d149-58d2-41cd-af16-2ef71595b2df",
   "metadata": {},
   "outputs": [],
   "source": [
    "# model define\n",
    "class Net(nn.Module):\n",
    "    def __init__(self):\n",
    "        super().__init__()\n",
    "        self.flatten = nn.Flatten()\n",
    "        self.input_layer = nn.Linear(32 * 32 * 3, 256)\n",
    "        self.hidden_layer1 = nn.Linear(256, 512)\n",
    "        self.hidden_layer2 = nn.Linear(512, 256)\n",
    "        self.output_layer = nn.Linear(256, 10)\n",
    "        self.relu = nn.ReLU()\n",
    "        # self.batchnorm = nn.BatchNorm2d(100) # batch normalization\n",
    "        #self.dropout = nn.Dropout(p=0.5) # Dropout\n",
    "        \n",
    "    def forward(self, x):\n",
    "        x = self.flatten(x)\n",
    "        h = self.relu(self.input_layer(x))\n",
    "        h = self.relu(self.hidden_layer1(h))\n",
    "        h = self.relu(self.hidden_layer2(h))\n",
    "        y = self.output_layer(h)\n",
    "        return y"
   ]
  },
  {
   "cell_type": "markdown",
   "id": "adbf4c6c-60c1-4b25-a8e0-2a0b25f41ccc",
   "metadata": {},
   "source": [
    "### Regularization\n",
    "------------------------\n",
    "+ __Regularizationn__ is a kind of penalty condition. In general, when doing machine learning or statistical inference. The cost function or error function proceeds toward the smaller one. "
   ]
  },
  {
   "cell_type": "code",
   "execution_count": null,
   "id": "45bdd71d-6b31-4a23-a2d2-e6087f09332d",
   "metadata": {},
   "outputs": [],
   "source": [
    "# set up criteron and optimizer\n",
    "criterion = torch.nn.CrossEntropyLoss().to(device)    # Softmax is internally computed.\n",
    "optimizer = torch.optim.Adam(model.parameters(), lr=learning_rate)\n",
    "\n",
    "#optimizer = torch.optim.Adam(model.parameters(), lr=1e-4, weight_decay=1e-5) # if weight_decay > 0 : L2 Regularization "
   ]
  },
  {
   "cell_type": "code",
   "execution_count": null,
   "id": "a54e9e9d-7733-448b-afcc-7e127d3b01b6",
   "metadata": {},
   "outputs": [],
   "source": [
    "# training\n",
    "for epoch in tqdm(range(training_epochs)):  # loop over the dataset multiple times\n",
    "    running_loss = 0.0\n",
    "    for i, data in enumerate(trainloader, 0):\n",
    "        # get the inputs; data is a list of [inputs, labels]\n",
    "        inputs, labels = data[0].to(device), data[1].to(device)\n",
    "\n",
    "        # zero the parameter gradients\n",
    "        optimizer.zero_grad()\n",
    "\n",
    "        # forward + backward + optimize\n",
    "        outputs = model(inputs)\n",
    "        loss = criterion\n",
    "        (outputs, labels)\n",
    "        loss.backward()\n",
    "        optimizer.step()\n",
    "        \n",
    "        # print statistics\n",
    "        running_loss += loss.item()\n",
    "    print('epochs:',epoch + 1 ,', loss:', running_loss / 2000)\n",
    "    running_loss = 0.0\n",
    "print('Finished Training')"
   ]
  },
  {
   "cell_type": "code",
   "execution_count": null,
   "id": "e4dd61b7-b8d4-454e-9f4f-6b82eee19261",
   "metadata": {},
   "outputs": [],
   "source": [
    "# test\n",
    "correct = 0\n",
    "total = 0\n",
    "# since we're not training, we don't need to calculate the gradients for our outputs\n",
    "with torch.no_grad():\n",
    "    for data in testloader:\n",
    "        images, labels = data[0].to(device), data[1].to(device)\n",
    "\n",
    "        # calculate outputs by running images through the network\n",
    "        outputs = model(images)\n",
    "        # the class with the highest energy is what we choose as prediction\n",
    "        _, predicted = torch.max(outputs.data, 1)\n",
    "        total += labels.size(0)\n",
    "        correct += (predicted == labels).sum().item()\n",
    "\n",
    "print(f'Accuracy of the network on the 10000 test images: {100 * correct // total} %')"
   ]
  },
  {
   "cell_type": "code",
   "execution_count": null,
   "id": "5ddb9e5a-e2ce-4f81-b911-3d57de330624",
   "metadata": {},
   "outputs": [],
   "source": [
    "# prepare to count predictions for each class\n",
    "correct_pred = {classname: 0 for classname in classes}\n",
    "total_pred = {classname: 0 for classname in classes}\n",
    "\n",
    "# again no gradients needed\n",
    "with torch.no_grad():\n",
    "    for data in testloader:\n",
    "        images, labels = data[0].to(device), data[1].to(device)\n",
    "        outputs = model(images)\n",
    "        _, predictions = torch.max(outputs, 1)\n",
    "        # collect the correct predictions for each class\n",
    "        for label, prediction in zip(labels, predictions):\n",
    "            if label == prediction:\n",
    "                correct_pred[classes[label]] += 1\n",
    "            total_pred[classes[label]] += 1\n",
    "\n",
    "\n",
    "# print accuracy for each class\n",
    "for classname, correct_count in correct_pred.items():\n",
    "    accuracy = 100 * float(correct_count) / total_pred[classname]\n",
    "    print(f'Accuracy for class: {classname:5s} is {accuracy:.1f} %')"
   ]
  },
  {
   "cell_type": "code",
   "execution_count": null,
   "id": "f29d36c8-c7d1-4666-aa00-39e6c44072ec",
   "metadata": {},
   "outputs": [],
   "source": []
  }
 ],
 "metadata": {
  "kernelspec": {
   "display_name": "Python 3",
   "language": "python",
   "name": "python3"
  },
  "language_info": {
   "codemirror_mode": {
    "name": "ipython",
    "version": 3
   },
   "file_extension": ".py",
   "mimetype": "text/x-python",
   "name": "python",
   "nbconvert_exporter": "python",
   "pygments_lexer": "ipython3",
   "version": "3.9.12"
  }
 },
 "nbformat": 4,
 "nbformat_minor": 5
}
